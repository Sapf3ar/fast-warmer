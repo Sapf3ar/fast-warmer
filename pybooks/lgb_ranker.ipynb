{
 "cells": [
  {
   "cell_type": "code",
   "execution_count": null,
   "metadata": {
    "id": "vAdb1Bnod9mG"
   },
   "outputs": [],
   "source": [
    "import pandas as pd"
   ]
  },
  {
   "cell_type": "code",
   "execution_count": null,
   "metadata": {},
   "outputs": [],
   "source": [
    "data = pd.read_parquet(\"train_dataset/logs_df_2024-08-05.parquet\")"
   ]
  },
  {
   "cell_type": "code",
   "execution_count": null,
   "metadata": {},
   "outputs": [],
   "source": [
    "#test = pd.read_parquet(\"train_dataset/logs_df_2024-08-06.parquet\")"
   ]
  },
  {
   "cell_type": "code",
   "execution_count": null,
   "metadata": {},
   "outputs": [],
   "source": [
    "#data.head()"
   ]
  },
  {
   "cell_type": "code",
   "execution_count": null,
   "metadata": {},
   "outputs": [],
   "source": [
    "stats = pd.read_parquet(\"train_dataset/video_stat.parquet\")"
   ]
  },
  {
   "cell_type": "code",
   "execution_count": null,
   "metadata": {},
   "outputs": [],
   "source": [
    "data"
   ]
  },
  {
   "cell_type": "code",
   "execution_count": null,
   "metadata": {},
   "outputs": [],
   "source": [
    "merged_data = pd.merge(data, stats, on='video_id', how='left')\n",
    "merged_data"
   ]
  },
  {
   "cell_type": "code",
   "execution_count": null,
   "metadata": {},
   "outputs": [],
   "source": [
    "merged_data['video_id'].nunique()"
   ]
  },
  {
   "cell_type": "code",
   "execution_count": null,
   "metadata": {},
   "outputs": [],
   "source": [
    "stats['video_id'].nunique()"
   ]
  },
  {
   "cell_type": "code",
   "execution_count": null,
   "metadata": {},
   "outputs": [],
   "source": [
    "merged_data.columns"
   ]
  },
  {
   "cell_type": "code",
   "execution_count": null,
   "metadata": {},
   "outputs": [],
   "source": []
  },
  {
   "cell_type": "code",
   "execution_count": null,
   "metadata": {},
   "outputs": [],
   "source": [
    "import pandas as pd\n",
    "import lightgbm as lgb\n",
    "from sklearn.model_selection import train_test_split\n",
    "from sklearn.preprocessing import LabelEncoder\n",
    "\n",
    "merged_data['v_duration'] = merged_data['v_duration'].replace(0, 1e-6)  # Избегаем деления на ноль\n",
    "\n",
    "# Вычисляем таргет: отношение времени просмотра к длительности видео\n",
    "merged_data['target'] = merged_data['watchtime'] / merged_data['v_duration']\n",
    "\n",
    "# Если watchtime превышает длительность видео, то таргет ограничивается значением 1\n",
    "merged_data['target'] = merged_data['target'].apply(lambda x: min(x, 1))\n",
    "\n",
    "categorical_columns = ['region', 'city', 'category_id', 'author_id']\n",
    "\n",
    "# Применяем LabelEncoder ко всем категориальным столбцам\n",
    "label_encoders = {}\n",
    "for column in categorical_columns:\n",
    "    label_encoders[column] = LabelEncoder()\n",
    "    merged_data[column] = label_encoders[column].fit_transform(merged_data[column])\n",
    "\n",
    "merged_data = merged_data.dropna()\n",
    "\n",
    "# Убираем старые категориальные фичи\n",
    "features = merged_data.drop(columns=['event_timestamp', 'user_id', 'video_id', 'watchtime', \n",
    "                              'v_pub_datetime', 'title', 'description', 'target', \n",
    "                              'city', 'category_id', 'author_id', 'region'])\n",
    "\n",
    "# Разделяем данные на тренировочные и тестовые выборки\n",
    "X_train, X_test, y_train, y_test = train_test_split(features, merged_data['target'], test_size=0.2, random_state=42)\n"
   ]
  },
  {
   "cell_type": "code",
   "execution_count": null,
   "metadata": {},
   "outputs": [],
   "source": [
    "merged_data"
   ]
  },
  {
   "cell_type": "code",
   "execution_count": null,
   "metadata": {},
   "outputs": [],
   "source": [
    "features"
   ]
  },
  {
   "cell_type": "code",
   "execution_count": null,
   "metadata": {},
   "outputs": [],
   "source": [
    "import lightgbm as lgb\n",
    "\n",
    "\n",
    "# Инициализация модели LightGBM Regressor\n",
    "model = lgb.LGBMRegressor(\n",
    "    objective='regression',\n",
    "    metric='rmse',\n",
    "    num_leaves=31,\n",
    "    learning_rate=0.05,\n",
    "    n_estimators=1000,\n",
    "    random_state=42\n",
    ")\n",
    "\n",
    "# Обучение модели с ранним прекращением\n",
    "model.fit(\n",
    "    X_train, \n",
    "    y_train, \n",
    "    eval_set=[(X_test, y_test)],\n",
    "    eval_metric='rmse',\n",
    "    # early_stopping_rounds=50,\n",
    "    categorical_feature=categorical_columns,\n",
    "    # verbose=100\n",
    ")\n",
    "\n",
    "# Предсказание на тестовой выборке\n",
    "y_pred = model.predict(X_test)\n",
    "\n",
    "# Вычисление метрик\n",
    "rmse = mean_squared_error(y_test, y_pred, squared=False)\n",
    "r2 = r2_score(y_test, y_pred)\n",
    "\n",
    "print(f\"RMSE на тестовой выборке: {rmse:.4f}\")\n",
    "print(f\"R² на тестовой выборке: {r2:.4f}\")\n"
   ]
  },
  {
   "cell_type": "code",
   "execution_count": null,
   "metadata": {},
   "outputs": [],
   "source": [
    "errors = y_pred - y_test\n",
    "sns.histplot(errors, bins=50, kde=True)\n",
    "plt.title('Распределение ошибок предсказания')\n",
    "plt.xlabel('Ошибка (Предсказание - Реальные значения)')\n",
    "plt.ylabel('Частота')\n",
    "plt.show()\n"
   ]
  },
  {
   "cell_type": "code",
   "execution_count": null,
   "metadata": {},
   "outputs": [],
   "source": [
    "\n",
    "candidates_df = pd.read_parquet('candadates.parquet')\n",
    "\n",
    "for column in categorical_columns:\n",
    "    if candidates_df[column].dtype == 'object':\n",
    "        candidates_df[column] = candidates_df[column].fillna('Unknown')\n",
    "    else:\n",
    "        candidates_df[column] = candidates_df[column].fillna(candidates_df[column].median())\n",
    "\n",
    "for column in candidates_df.columns:\n",
    "    if candidates_df[column].dtype in ['int64', 'float64']:\n",
    "        candidates_df[column] = candidates_df[column].fillna(candidates_df[column].median())\n",
    "    elif candidates_df[column].dtype == 'object':\n",
    "        candidates_df[column] = candidates_df[column].fillna('Unknown')\n",
    "\n",
    "X_candidates = candidates_df.drop(columns=['user_id', 'video_id'])\n",
    "\n",
    "candidates_df['score'] = model.predict(X_candidates)\n",
    "candidates_df_sorted = candidates_df.sort_values(by=['user_id', 'score'], ascending=[True, False])\n",
    "candidates_df_sorted['rank'] = candidates_df_sorted.groupby('user_id')['score'].rank(method='first', ascending=False).astype(int)\n",
    "\n",
    "print(\"Отсортированные кандидаты с рангами:\")\n",
    "print(candidates_df_sorted)\n",
    "\n",
    "candidates_df_sorted.to_csv('ranked_candidates.csv', index=False)\n"
   ]
  }
 ],
 "metadata": {
  "accelerator": "GPU",
  "colab": {
   "gpuType": "T4",
   "provenance": []
  },
  "kernelspec": {
   "display_name": "Python 3 (ipykernel)",
   "language": "python",
   "name": "python3"
  },
  "language_info": {
   "codemirror_mode": {
    "name": "ipython",
    "version": 3
   },
   "file_extension": ".py",
   "mimetype": "text/x-python",
   "name": "python",
   "nbconvert_exporter": "python",
   "pygments_lexer": "ipython3",
   "version": "3.10.12"
  }
 },
 "nbformat": 4,
 "nbformat_minor": 4
}
